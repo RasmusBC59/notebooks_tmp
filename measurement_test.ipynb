{
 "cells": [
  {
   "cell_type": "code",
   "execution_count": 2,
   "id": "295df6e4",
   "metadata": {},
   "outputs": [],
   "source": [
    "import numpy as np\n",
    "from qcodes.utils.validators import Numbers, Arrays\n",
    "from qcodes.instrument.base import Instrument\n",
    "from qcodes.dataset.measurements import Measurement\n",
    "\n",
    "from qcodes.instrument.parameter import ParameterWithSetpoints, Parameter\n",
    "from qcodes.utils import validators\n",
    "from qcodes.utils.dataset.doNd import do0d, do1d\n",
    "from qcodes.dataset.plotting import plot_by_id"
   ]
  },
  {
   "cell_type": "code",
   "execution_count": 3,
   "id": "6aac7859",
   "metadata": {},
   "outputs": [],
   "source": [
    "class GeneratedSetPoints(Parameter):\n",
    "    \"\"\"\n",
    "    A parameter that generates a setpoint array from start, stop and num points\n",
    "    parameters.\n",
    "    \"\"\"\n",
    "    def __init__(self, name, startparam, stopparam, numpointsparam, *args, **kwargs):\n",
    "        super().__init__(name, *args, **kwargs)\n",
    "        self._startparam = startparam\n",
    "        self._stopparam = stopparam\n",
    "        self._numpointsparam = numpointsparam\n",
    "\n",
    "    def get_raw(self):\n",
    "        return np.linspace(self._startparam(), self._stopparam(),\n",
    "                              self._numpointsparam())\n",
    "\n",
    "class DummyArray(ParameterWithSetpoints):\n",
    "\n",
    "    def get_raw(self):\n",
    "        npoints = self.root_instrument.n_points.get_latest()\n",
    "        return np.random.rand(npoints)\n",
    "    \n",
    "class DummyArrayXY(ParameterWithSetpoints):\n",
    "\n",
    "    def get_raw(self):\n",
    "        npoints = self.root_instrument.n_points.get_latest()\n",
    "        return np.random.random((npoints,npoints))\n",
    "\n",
    "\n",
    "class DummySpectrumAnalyzer(Instrument):\n",
    "\n",
    "    def __init__(self, name, **kwargs):\n",
    "\n",
    "        super().__init__(name, **kwargs)\n",
    "\n",
    "\n",
    "        self.add_parameter('f_start',\n",
    "                           initial_value=0,\n",
    "                           unit='Hz',\n",
    "                           label='f start',\n",
    "                           vals=Numbers(0,1e3),\n",
    "                           get_cmd=None,\n",
    "                           set_cmd=None)\n",
    "\n",
    "        self.add_parameter('f_stop',\n",
    "                           initial_value=10,\n",
    "                           unit='Hz',\n",
    "                           label='f stop',\n",
    "                           vals=Numbers(1,1e3),\n",
    "                           get_cmd=None,\n",
    "                           set_cmd=None)\n",
    "\n",
    "        self.add_parameter('n_points',\n",
    "                           unit='',\n",
    "                           initial_value=10,\n",
    "                           vals=Numbers(1,1e3),\n",
    "                           get_cmd=None,\n",
    "                           set_cmd=None)\n",
    "\n",
    "        self.add_parameter('freq_axis',\n",
    "                           unit='Hz',\n",
    "                           label='Freq Axis',\n",
    "                           parameter_class=GeneratedSetPoints,\n",
    "                           startparam=self.f_start,\n",
    "                           stopparam=self.f_stop,\n",
    "                           numpointsparam=self.n_points,\n",
    "                           vals=Arrays(shape=(self.n_points.get_latest,)))\n",
    "        \n",
    "        self.add_parameter('freq_axisy',\n",
    "                           unit='Hz',\n",
    "                           label='Freq Axis',\n",
    "                           parameter_class=GeneratedSetPoints,\n",
    "                           startparam=self.f_start,\n",
    "                           stopparam=self.f_stop,\n",
    "                           numpointsparam=self.n_points,\n",
    "                           vals=Arrays(shape=(self.n_points.get_latest,)))\n",
    "\n",
    "        self.add_parameter('spectrum',\n",
    "                   unit='dBm',\n",
    "                   setpoints=(self.freq_axis,),\n",
    "                   label='Spectrum',\n",
    "                   parameter_class=DummyArray,\n",
    "                   vals=Arrays(shape=(self.n_points.get_latest,)))\n",
    "        \n",
    "        self.add_parameter('spectrumxy',\n",
    "                   unit='dBm',\n",
    "                   setpoints=(self.freq_axis, self.freq_axisy),\n",
    "                   label='Spectrumxy',\n",
    "                   parameter_class=DummyArrayXY,\n",
    "                   vals=Arrays(shape=(self.n_points.get_latest, self.n_points.get_latest)))"
   ]
  },
  {
   "cell_type": "code",
   "execution_count": 4,
   "id": "c3e4d62a",
   "metadata": {},
   "outputs": [],
   "source": [
    "class MyCounter(Parameter):\n",
    "    def __init__(self, name):\n",
    "        # only name is required\n",
    "        super().__init__(name, label='Times this has been read',\n",
    "                         vals=validators.Numbers(min_value=0),\n",
    "                         docstring='counts how many times get has been called '\n",
    "                                   'but can be reset to any integer >= 0 by set')\n",
    "        self._count = 0\n",
    "\n",
    "    # you must provide a get method, a set method, or both.\n",
    "    def get_raw(self):\n",
    "        self._count += 1\n",
    "        return int(self._count)\n",
    "\n",
    "    def set_raw(self, val):\n",
    "        self._count = int(val)\n",
    "        return self._count"
   ]
  },
  {
   "cell_type": "code",
   "execution_count": 5,
   "id": "39420ae3",
   "metadata": {},
   "outputs": [],
   "source": [
    "spec = DummySpectrumAnalyzer('test')\n",
    "mycounter = MyCounter('counter')"
   ]
  },
  {
   "cell_type": "code",
   "execution_count": 5,
   "id": "fdbd8fd3",
   "metadata": {},
   "outputs": [
    {
     "name": "stdout",
     "output_type": "stream",
     "text": [
      "Starting experimental run with id: 105. \n"
     ]
    }
   ],
   "source": [
    "meas = Measurement()\n",
    "# Register the independent parameter...\n",
    "meas.register_parameter(spec.spectrum)\n",
    "\n",
    "with meas.run() as datasaver:\n",
    "    datasaver.add_result((spec.spectrum, spec.spectrum()))"
   ]
  },
  {
   "cell_type": "code",
   "execution_count": 6,
   "id": "a6795379",
   "metadata": {},
   "outputs": [
    {
     "data": {
      "image/png": "[encoded data removed]",
      "text/plain": [
       "<Figure size 432x288 with 1 Axes>"
      ]
     },
     "metadata": {
      "needs_background": "light"
     },
     "output_type": "display_data"
    }
   ],
   "source": [
    "plot = plot_by_id(102)"
   ]
  },
  {
   "cell_type": "code",
   "execution_count": 7,
   "id": "7f125511",
   "metadata": {},
   "outputs": [
    {
     "name": "stdout",
     "output_type": "stream",
     "text": [
      "Starting experimental run with id: 106. \n"
     ]
    }
   ],
   "source": [
    "meas2 = Measurement()\n",
    "# Register the independent parameter...\n",
    "meas2.register_parameter(spec.freq_axis)\n",
    "meas2.register_parameter(spec.spectrum, setpoints=(spec.freq_axis,))\n",
    "\n",
    "with meas2.run() as datasaver:\n",
    "    datasaver.add_result((spec.spectrum, spec.spectrum()),\n",
    "                         (spec.freq_axis, spec.freq_axis()))"
   ]
  },
  {
   "cell_type": "code",
   "execution_count": 8,
   "id": "d141cca1",
   "metadata": {},
   "outputs": [
    {
     "name": "stdout",
     "output_type": "stream",
     "text": [
      "Starting experimental run with id: 107. \n"
     ]
    }
   ],
   "source": [
    "meas3 = Measurement()\n",
    "# Register the independent parameter...\n",
    "mycounter(0)\n",
    "meas3.register_parameter(mycounter)\n",
    "meas3.register_parameter(spec.freq_axis)\n",
    "meas3.register_parameter(spec.spectrum, setpoints=(spec.freq_axis,mycounter))\n",
    "with meas3.run() as datasaver:\n",
    "    for i in range(10):\n",
    "        mycounter(i)\n",
    "        datasaver.add_result((spec.spectrum, spec.spectrum()),\n",
    "                             (spec.freq_axis, spec.freq_axis()),\n",
    "                             (mycounter,mycounter()))"
   ]
  },
  {
   "cell_type": "code",
   "execution_count": 9,
   "id": "9960667e",
   "metadata": {},
   "outputs": [
    {
     "data": {
      "image/png": "[encoded data removed]",
      "text/plain": [
       "<Figure size 432x288 with 2 Axes>"
      ]
     },
     "metadata": {
      "needs_background": "light"
     },
     "output_type": "display_data"
    }
   ],
   "source": [
    "plot = plot_by_id(103)"
   ]
  },
  {
   "cell_type": "code",
   "execution_count": 11,
   "id": "f189889b",
   "metadata": {},
   "outputs": [
    {
     "name": "stdout",
     "output_type": "stream",
     "text": [
      "Starting experimental run with id: 109. Using 'qcodes.utils.dataset.doNd.do1d'\n"
     ]
    },
    {
     "data": {
      "image/png": "[encoded data removed]",
      "text/plain": [
       "<Figure size 432x288 with 2 Axes>"
      ]
     },
     "metadata": {
      "needs_background": "light"
     },
     "output_type": "display_data"
    }
   ],
   "source": [
    "result_1d = do1d(mycounter, 0, 9, 10, 0.01, spec.spectrum, do_plot=True)"
   ]
  },
  {
   "cell_type": "code",
   "execution_count": 12,
   "id": "e61df57b",
   "metadata": {},
   "outputs": [
    {
     "name": "stdout",
     "output_type": "stream",
     "text": [
      "Starting experimental run with id: 110. \n"
     ]
    }
   ],
   "source": [
    "meas = Measurement()\n",
    "# Register the independent parameter...\n",
    "meas.register_parameter(spec.spectrumxy)\n",
    "\n",
    "with meas.run() as datasaver:\n",
    "    datasaver.add_result((spec.spectrumxy, spec.spectrumxy()))\n",
    "databla = datasaver.dataset\n"
   ]
  },
  {
   "cell_type": "code",
   "execution_count": 14,
   "id": "c06f55ce",
   "metadata": {},
   "outputs": [
    {
     "name": "stdout",
     "output_type": "stream",
     "text": [
      "Starting experimental run with id: 112. Using 'qcodes.utils.dataset.doNd.do0d'\n"
     ]
    },
    {
     "data": {
      "text/plain": [
       "(results #112@C:\\Users\\rbcma\\experiments.db\n",
       " ------------------------------------------\n",
       " test_freq_axis - array\n",
       " test_freq_axisy - array\n",
       " test_spectrumxy - array,\n",
       " [None],\n",
       " [None])"
      ]
     },
     "execution_count": 14,
     "metadata": {},
     "output_type": "execute_result"
    }
   ],
   "source": [
    "do0d(spec.spectrumxy)"
   ]
  },
  {
   "cell_type": "code",
   "execution_count": 15,
   "id": "1ce94890",
   "metadata": {},
   "outputs": [
    {
     "name": "stdout",
     "output_type": "stream",
     "text": [
      "Starting experimental run with id: 113. \n"
     ]
    }
   ],
   "source": [
    "meas = Measurement()\n",
    "# Register the independent parameter...\n",
    "meas.register_parameter(spec.spectrumxy)\n",
    "\n",
    "with meas.run() as datasaver:\n",
    "    datasaver.add_result((spec.spectrumxy, spec.spectrumxy()))\n",
    "databla = datasaver.dataset"
   ]
  },
  {
   "cell_type": "code",
   "execution_count": 16,
   "id": "6af1bffb",
   "metadata": {},
   "outputs": [
    {
     "data": {
      "text/plain": [
       "([<AxesSubplot:title={'center':'Run #113, Experiment for_test (no sample)'}, xlabel='Freq Axis (Hz)', ylabel='Freq Axis (Hz)'>],\n",
       " [<matplotlib.colorbar.Colorbar at 0x1fd76b16b20>])"
      ]
     },
     "execution_count": 16,
     "metadata": {},
     "output_type": "execute_result"
    },
    {
     "data": {
      "image/png": "[encoded data removed]",
      "text/plain": [
       "<Figure size 432x288 with 2 Axes>"
      ]
     },
     "metadata": {
      "needs_background": "light"
     },
     "output_type": "display_data"
    }
   ],
   "source": [
    "plot_by_id(113)"
   ]
  },
  {
   "cell_type": "markdown",
   "id": "ddd407a9",
   "metadata": {},
   "source": [
    "# Options to (possibly) make it faster"
   ]
  },
  {
   "cell_type": "code",
   "execution_count": 12,
   "id": "9419926a",
   "metadata": {},
   "outputs": [
    {
     "name": "stdout",
     "output_type": "stream",
     "text": [
      "Starting experimental run with id: 122. \n"
     ]
    }
   ],
   "source": [
    "meas = Measurement()\n",
    "# Register the independent parameter...\n",
    "meas.register_parameter(mycounter)\n",
    "meas.register_parameter(spec.spectrumxy,setpoints=(mycounter,),paramtype='array')\n",
    "meas.write_period = 5\n",
    "with meas.run(write_in_background=True, in_memory_cache=False) as datasaver:\n",
    "    for i in range(3):\n",
    "        mycounter(i)\n",
    "        datasaver.add_result((spec.spectrumxy, spec.spectrumxy()),\n",
    "                             (mycounter, mycounter()))\n",
    "databla = datasaver.dataset"
   ]
  },
  {
   "cell_type": "code",
   "execution_count": 13,
   "id": "6735464d",
   "metadata": {},
   "outputs": [
    {
     "name": "stderr",
     "output_type": "stream",
     "text": [
      "Multi-dimensional data encountered. parameter test_spectrumxy depends on 3 parameters, cannot plot that.\n"
     ]
    },
    {
     "data": {
      "text/plain": [
       "([<AxesSubplot:>], [None])"
      ]
     },
     "execution_count": 13,
     "metadata": {},
     "output_type": "execute_result"
    },
    {
     "data": {
      "image/png": "[encoded data removed]",
      "text/plain": [
       "<Figure size 432x288 with 1 Axes>"
      ]
     },
     "metadata": {
      "needs_background": "light"
     },
     "output_type": "display_data"
    }
   ],
   "source": [
    "plot_by_id(122)\n"
   ]
  },
  {
   "cell_type": "code",
   "execution_count": 14,
   "id": "a007b2a0",
   "metadata": {},
   "outputs": [],
   "source": [
    "df = databla.to_pandas_dataframe()"
   ]
  },
  {
   "cell_type": "code",
   "execution_count": 15,
   "id": "64bc68ac",
   "metadata": {},
   "outputs": [
    {
     "data": {
      "text/html": [
       "<div>\n",
       "<style scoped>\n",
       "    .dataframe tbody tr th:only-of-type {\n",
       "        vertical-align: middle;\n",
       "    }\n",
       "\n",
       "    .dataframe tbody tr th {\n",
       "        vertical-align: top;\n",
       "    }\n",
       "\n",
       "    .dataframe thead th {\n",
       "        text-align: right;\n",
       "    }\n",
       "</style>\n",
       "<table border=\"1\" class=\"dataframe\">\n",
       "  <thead>\n",
       "    <tr style=\"text-align: right;\">\n",
       "      <th></th>\n",
       "      <th>counter</th>\n",
       "      <th>test_freq_axis</th>\n",
       "      <th>test_freq_axisy</th>\n",
       "      <th>test_spectrumxy</th>\n",
       "    </tr>\n",
       "  </thead>\n",
       "  <tbody>\n",
       "    <tr>\n",
       "      <th>0</th>\n",
       "      <td>2.0</td>\n",
       "      <td>0.0</td>\n",
       "      <td>0.000000</td>\n",
       "      <td>0.773082</td>\n",
       "    </tr>\n",
       "    <tr>\n",
       "      <th>1</th>\n",
       "      <td>2.0</td>\n",
       "      <td>0.0</td>\n",
       "      <td>1.111111</td>\n",
       "      <td>0.656250</td>\n",
       "    </tr>\n",
       "    <tr>\n",
       "      <th>2</th>\n",
       "      <td>2.0</td>\n",
       "      <td>0.0</td>\n",
       "      <td>2.222222</td>\n",
       "      <td>0.939439</td>\n",
       "    </tr>\n",
       "    <tr>\n",
       "      <th>3</th>\n",
       "      <td>2.0</td>\n",
       "      <td>0.0</td>\n",
       "      <td>3.333333</td>\n",
       "      <td>0.151200</td>\n",
       "    </tr>\n",
       "    <tr>\n",
       "      <th>4</th>\n",
       "      <td>2.0</td>\n",
       "      <td>0.0</td>\n",
       "      <td>4.444444</td>\n",
       "      <td>0.959678</td>\n",
       "    </tr>\n",
       "  </tbody>\n",
       "</table>\n",
       "</div>"
      ],
      "text/plain": [
       "   counter  test_freq_axis  test_freq_axisy  test_spectrumxy\n",
       "0      2.0             0.0         0.000000         0.773082\n",
       "1      2.0             0.0         1.111111         0.656250\n",
       "2      2.0             0.0         2.222222         0.939439\n",
       "3      2.0             0.0         3.333333         0.151200\n",
       "4      2.0             0.0         4.444444         0.959678"
      ]
     },
     "execution_count": 15,
     "metadata": {},
     "output_type": "execute_result"
    }
   ],
   "source": [
    "df2 = df[df.index.isin([2], level=0)].reset_index()\n",
    "df2.head()"
   ]
  },
  {
   "cell_type": "code",
   "execution_count": 16,
   "id": "e9277d55",
   "metadata": {},
   "outputs": [
    {
     "data": {
      "text/plain": [
       "<AxesSubplot:xlabel='test_freq_axis', ylabel='test_freq_axisy'>"
      ]
     },
     "execution_count": 16,
     "metadata": {},
     "output_type": "execute_result"
    },
    {
     "data": {
      "image/png": "[encoded data removed]",
      "text/plain": [
       "<Figure size 432x288 with 2 Axes>"
      ]
     },
     "metadata": {
      "needs_background": "light"
     },
     "output_type": "display_data"
    }
   ],
   "source": [
    "df2.plot.scatter('test_freq_axis', 'test_freq_axisy', c='test_spectrumxy')"
   ]
  },
  {
   "cell_type": "code",
   "execution_count": 36,
   "id": "63b19d59",
   "metadata": {},
   "outputs": [
    {
     "name": "stdout",
     "output_type": "stream",
     "text": [
      "Starting experimental run with id: 118. Using 'qcodes.utils.dataset.doNd.do1d'\n"
     ]
    }
   ],
   "source": [
    "result_1d = do1d(mycounter, 0, 9, 10, 0.01, spec.spectrumxy, do_plot=False)"
   ]
  },
  {
   "cell_type": "code",
   "execution_count": 39,
   "id": "633e48be",
   "metadata": {},
   "outputs": [
    {
     "data": {
      "text/plain": [
       "<AxesSubplot:xlabel='test_freq_axis', ylabel='test_freq_axisy'>"
      ]
     },
     "execution_count": 39,
     "metadata": {},
     "output_type": "execute_result"
    },
    {
     "data": {
      "image/png": "[encoded data removed]",
      "text/plain": [
       "<Figure size 432x288 with 2 Axes>"
      ]
     },
     "metadata": {
      "needs_background": "light"
     },
     "output_type": "display_data"
    }
   ],
   "source": [
    "df = result_1d[0].to_pandas_dataframe()\n",
    "df2 = df[df.index.isin([2], level=0)].reset_index()\n",
    "df2.plot.scatter('test_freq_axis', 'test_freq_axisy', c='test_spectrumxy')"
   ]
  },
  {
   "cell_type": "code",
   "execution_count": 40,
   "id": "86a37abd",
   "metadata": {},
   "outputs": [
    {
     "data": {
      "text/plain": [
       "<AxesSubplot:xlabel='test_freq_axis', ylabel='test_freq_axisy'>"
      ]
     },
     "execution_count": 40,
     "metadata": {},
     "output_type": "execute_result"
    },
    {
     "data": {
      "image/png": "[encoded data removed]",
      "text/plain": [
       "<Figure size 432x288 with 2 Axes>"
      ]
     },
     "metadata": {
      "needs_background": "light"
     },
     "output_type": "display_data"
    }
   ],
   "source": [
    "df3 = df.groupby(['test_freq_axis', 'test_freq_axisy']).mean()\n",
    "df3.reset_index().plot.scatter('test_freq_axis', 'test_freq_axisy', c='test_spectrumxy')"
   ]
  },
  {
   "cell_type": "code",
   "execution_count": null,
   "id": "081286f3",
   "metadata": {},
   "outputs": [],
   "source": [
    "res = []\n",
    "setpoint_params = []\n",
    "setpoint_data = []\n",
    "results = None\n",
    "parameter = spec.spectrumxy\n",
    "for setpointparam in parameter.setpoints:\n",
    "    these_setpoints = setpointparam.get()\n",
    "    setpoint_params.append(setpointparam)\n",
    "    setpoint_data.append(these_setpoints)\n",
    "output_grids = np.meshgrid(*setpoint_data, indexing='ij')\n",
    "for param, grid in zip(setpoint_params, output_grids):\n",
    "    res.append((param, grid))\n",
    "if results is None:\n",
    "    data = parameter.get()\n",
    "else:\n",
    "    data = results\n",
    "res.append((parameter, data))"
   ]
  },
  {
   "cell_type": "markdown",
   "id": "21a8f9a3",
   "metadata": {},
   "source": [
    "Below is there some example that Intuitively should work, but do not :-("
   ]
  },
  {
   "cell_type": "code",
   "execution_count": null,
   "id": "78c96d4d",
   "metadata": {},
   "outputs": [],
   "source": [
    "meas2 = Measurement()\n",
    "# Register the independent parameter...\n",
    "meas2.register_parameter(spec.freq_axis)\n",
    "meas2.register_parameter(spec.freq_axisy)\n",
    "meas2.register_parameter(spec.spectrumxy, setpoints=(spec.freq_axis, spec.freq_axisy))\n",
    "\n",
    "with meas2.run() as datasaver:\n",
    "    datasaver.add_result((spec.spectrumxy, spec.spectrumxy()),\n",
    "                         (spec.freq_axis, spec.freq_axis()),\n",
    "                         (spec.freq_axisy, spec.freq_axisy()))"
   ]
  },
  {
   "cell_type": "code",
   "execution_count": null,
   "id": "332171da",
   "metadata": {},
   "outputs": [],
   "source": [
    "meas4 = Measurement()\n",
    "# Register the independent parameter...\n",
    "mycounter(0)\n",
    "meas4.register_parameter(mycounter)\n",
    "meas4.register_parameter(spec.freq_axis)\n",
    "meas4.register_parameter(spec.freq_axisy)\n",
    "meas4.register_parameter(spec.spectrumxy, setpoints=(spec.freq_axis, spec.freq_axisy, mycounter))\n",
    "with meas4.run() as datasaver:\n",
    "    for i in range(10):\n",
    "        mycounter(i)\n",
    "        #output_grids = np.meshgrid(spec.freq_axis.get(),spec.freq_axisy.get(), indexing='ij')\n",
    "        datasaver.add_result((spec.spectrumxy, spec.spectrumxy()),\n",
    "                             (spec.freq_axis, spec.freq_axis.get()),\n",
    "                             (spec.freq_axisy, spec.freq_axisy.get()),\n",
    "                             (mycounter, mycounter()))\n",
    "databla = datasaver.dataset"
   ]
  }
 ],
 "metadata": {
  "kernelspec": {
   "display_name": "Python 3 (ipykernel)",
   "language": "python",
   "name": "python3"
  },
  "language_info": {
   "codemirror_mode": {
    "name": "ipython",
    "version": 3
   },
   "file_extension": ".py",
   "mimetype": "text/x-python",
   "name": "python",
   "nbconvert_exporter": "python",
   "pygments_lexer": "ipython3",
   "version": "3.9.7"
  }
 },
 "nbformat": 4,
 "nbformat_minor": 5
}
