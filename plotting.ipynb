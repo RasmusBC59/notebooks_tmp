{
 "cells": [
  {
   "cell_type": "markdown",
   "metadata": {},
   "source": [
    "# Plotting data from from QCoDeS"
   ]
  },
  {
   "cell_type": "code",
   "execution_count": 14,
   "metadata": {},
   "outputs": [],
   "source": [
    "%matplotlib inline\n",
    "import qcodes as qc\n",
    "import random\n",
    "import os\n",
    "import matplotlib.pyplot as plt\n",
    "from qcodes.dataset.data_set import load_by_id\n",
    "from qcodes.dataset.plotting import plot_dataset\n",
    "from qcodes.utils.validators import Numbers, Arrays\n",
    "from qcodes.instrument.base import Instrument\n",
    "from qcodes.dataset.measurements import Measurement\n",
    "from qcodes.instrument.parameter import ParameterWithSetpoints, Parameter\n",
    "from qcodes.utils.dataset.doNd import do1d, do2d, plot\n",
    "from qcodes import load_or_create_experiment, initialise_database, initialise_or_create_database_at\n",
    "from IPython.display import Image\n",
    "\n",
    "db_file_path = os.path.join(os.getcwd(), 'plotting_tutorial.db')\n",
    "initialise_or_create_database_at(db_file_path)\n",
    "exp = load_or_create_experiment(experiment_name='plotting',\n",
    "                          sample_name=\"no sample\")\n"
   ]
  },
  {
   "cell_type": "markdown",
   "metadata": {},
   "source": [
    "### Dummy Instruments to generate data"
   ]
  },
  {
   "cell_type": "code",
   "execution_count": 3,
   "metadata": {},
   "outputs": [],
   "source": [
    "class RandomParam(Parameter):\n",
    "    def __init__(self, name, **kwargs):\n",
    "        super().__init__(name, **kwargs)\n",
    "    def get_raw(self):\n",
    "        return random.random()\n",
    "\n",
    "class DummyInstrument(Instrument):\n",
    "\n",
    "    def __init__(self, name, **kwargs):\n",
    "\n",
    "        super().__init__(name, **kwargs)\n",
    "        \n",
    "        self.add_parameter('Bias', unit='V', parameter_class=RandomParam)\n",
    "        \n",
    "        self.add_parameter('Magnetic_field',\n",
    "                           initial_value=0,\n",
    "                           unit='T',\n",
    "                           label='Parallel magnetic field',\n",
    "                           vals=Numbers(0,10),\n",
    "                           get_cmd=None,\n",
    "                           set_cmd=None)\n",
    "        \n",
    "        self.add_parameter('V',\n",
    "                           initial_value=0,\n",
    "                           unit='V',\n",
    "                           label='V_gate',\n",
    "                           vals=Numbers(0,10),\n",
    "                           get_cmd=None,\n",
    "                           set_cmd=None)\n",
    "        \n",
    "class NonSIInstrument(Instrument):\n",
    "\n",
    "    def __init__(self, name, **kwargs):\n",
    "\n",
    "        super().__init__(name, **kwargs)\n",
    "        \n",
    "        self.add_parameter('Bias', unit='NonSI', parameter_class=RandomParam)\n",
    "        \n",
    "        self.add_parameter('Magnetic_field',\n",
    "                           initial_value=0,\n",
    "                           unit='B',\n",
    "                           label='Parallel magnetic field',\n",
    "                           vals=Numbers(0,10),\n",
    "                           get_cmd=None,\n",
    "                           set_cmd=None)\n",
    "        \n",
    "        self.add_parameter('V',\n",
    "                           initial_value=0,\n",
    "                           unit='Volt',\n",
    "                           label='V_gate',\n",
    "                           vals=Numbers(0,10),\n",
    "                           get_cmd=None,\n",
    "                           set_cmd=None)\n",
    "                  "
   ]
  },
  {
   "cell_type": "code",
   "execution_count": 4,
   "metadata": {},
   "outputs": [],
   "source": [
    "test = DummyInstrument('test')\n",
    "NoneSI = NonSIInstrument('NoneSI')"
   ]
  },
  {
   "cell_type": "markdown",
   "metadata": {},
   "source": [
    "### Plotting using do2d\n",
    "\n",
    "When you use a doND the axis are automaticly scaled  "
   ]
  },
  {
   "cell_type": "code",
   "execution_count": 5,
   "metadata": {},
   "outputs": [
    {
     "name": "stdout",
     "output_type": "stream",
     "text": [
      "Starting experimental run with id: 1. \n"
     ]
    },
    {
     "data": {
      "text/plain": [
       "(results #1@C:\\Users\\rbcma\\CodeSnips\\plotting_tutorial.db\n",
       " --------------------------------------------------------\n",
       " test_V - numeric\n",
       " test_Magnetic_field - numeric\n",
       " test_Bias - numeric,\n",
       " [<AxesSubplot:title={'center':'Run #1, Experiment plotting (no sample)'}, xlabel='V_gate (V)', ylabel='Parallel magnetic field (mT)'>],\n",
       " [<matplotlib.colorbar.Colorbar at 0x179fa572548>])"
      ]
     },
     "execution_count": 5,
     "metadata": {},
     "output_type": "execute_result"
    },
    {
     "data": {
      "image/png": "[encoded data removed]",
      "text/plain": [
       "<Figure size 432x288 with 2 Axes>"
      ]
     },
     "metadata": {
      "needs_background": "light"
     },
     "output_type": "display_data"
    }
   ],
   "source": [
    "do2d(test.V, 0, 1, 20, 0.01, test.Magnetic_field, 0, 0.001, 20, 0.01,test.Bias, do_plot = True)"
   ]
  },
  {
   "cell_type": "code",
   "execution_count": 7,
   "metadata": {},
   "outputs": [
    {
     "name": "stdout",
     "output_type": "stream",
     "text": [
      "Starting experimental run with id: 2. \n"
     ]
    },
    {
     "data": {
      "text/plain": [
       "(results #2@C:\\Users\\rbcma\\CodeSnips\\plotting_tutorial.db\n",
       " --------------------------------------------------------\n",
       " test_V - numeric\n",
       " test_Magnetic_field - numeric\n",
       " test_Bias - numeric,\n",
       " [<AxesSubplot:title={'center':'Run #2, Experiment plotting (no sample)'}, xlabel='V_gate (mV)', ylabel='Parallel magnetic field (μT)'>],\n",
       " [<matplotlib.colorbar.Colorbar at 0x179fb4e08c8>])"
      ]
     },
     "execution_count": 7,
     "metadata": {},
     "output_type": "execute_result"
    },
    {
     "data": {
      "image/png": "[encoded data removed]",
      "text/plain": [
       "<Figure size 432x288 with 2 Axes>"
      ]
     },
     "metadata": {
      "needs_background": "light"
     },
     "output_type": "display_data"
    }
   ],
   "source": [
    "do2d(test.V, 0, 0.001, 20, 0.01, test.Magnetic_field, 0, 0.0001, 20, 0.01,test.Bias, do_plot = True)"
   ]
  },
  {
   "cell_type": "markdown",
   "metadata": {},
   "source": [
    "### Label\n",
    "If you do not like the Label defined by the driver you can override it before you make the measurement. "
   ]
  },
  {
   "cell_type": "code",
   "execution_count": 9,
   "metadata": {},
   "outputs": [
    {
     "name": "stdout",
     "output_type": "stream",
     "text": [
      "Starting experimental run with id: 4. \n"
     ]
    },
    {
     "data": {
      "text/plain": [
       "(results #4@C:\\Users\\rbcma\\CodeSnips\\plotting_tutorial.db\n",
       " --------------------------------------------------------\n",
       " test_V - numeric\n",
       " test_Magnetic_field - numeric\n",
       " test_Bias - numeric,\n",
       " [<AxesSubplot:title={'center':'Run #4, Experiment plotting (no sample)'}, xlabel='New Label (mV)', ylabel='Parallel magnetic field (μT)'>],\n",
       " [<matplotlib.colorbar.Colorbar at 0x179fb6bcd08>])"
      ]
     },
     "execution_count": 9,
     "metadata": {},
     "output_type": "execute_result"
    },
    {
     "data": {
      "image/png": "[encoded data removed]",
      "text/plain": [
       "<Figure size 432x288 with 2 Axes>"
      ]
     },
     "metadata": {
      "needs_background": "light"
     },
     "output_type": "display_data"
    }
   ],
   "source": [
    "test.V.label  = 'New Label'\n",
    "do2d(test.V, 0, 0.001, 20, 0.01, test.Magnetic_field, 0, 0.0001, 20, 0.01,test.Bias, do_plot = True)"
   ]
  },
  {
   "cell_type": "markdown",
   "metadata": {},
   "source": [
    "If non SI units are used the axis are still scaled. However not so nicely."
   ]
  },
  {
   "cell_type": "code",
   "execution_count": 98,
   "metadata": {},
   "outputs": [
    {
     "name": "stdout",
     "output_type": "stream",
     "text": [
      "Starting experimental run with id: 8. \n"
     ]
    },
    {
     "data": {
      "image/png": "[encoded data removed]",
      "text/plain": [
       "<Figure size 432x288 with 2 Axes>"
      ]
     },
     "metadata": {
      "needs_background": "light"
     },
     "output_type": "display_data"
    }
   ],
   "source": [
    "data_ax = do2d(NoneSI.V, 0, 0.001, 20, 0.01, NoneSI.Magnetic_field, 0, 0.0001, 20, 0.01,NoneSI.Bias, do_plot = True)"
   ]
  },
  {
   "cell_type": "markdown",
   "metadata": {},
   "source": [
    "### Matplotlib\n",
    "The plotting in QCoDeS is just a wrapper around Matplotlib, so you can always change things afterwards.\n",
    "https://matplotlib.org/stable/tutorials/introductory/usage.html#sphx-glr-tutorials-introductory-usage-py"
   ]
  },
  {
   "cell_type": "code",
   "execution_count": 100,
   "metadata": {},
   "outputs": [],
   "source": [
    "ax = data_ax[1][0]\n",
    "ax.set_xlabel('V gate (mV)')\n",
    "ax.set_ylabel(r'B|| ($\\mu$T)')\n",
    "ax.set_title('Random Plot')\n",
    "\n",
    "ax.figure.savefig(\"mygraph.png\")"
   ]
  },
  {
   "cell_type": "code",
   "execution_count": 101,
   "metadata": {},
   "outputs": [
    {
     "data": {
      "image/png": "[encoded data removed]",
      "text/plain": [
       "<IPython.core.display.Image object>"
      ]
     },
     "execution_count": 101,
     "metadata": {},
     "output_type": "execute_result"
    }
   ],
   "source": [
    "Image(filename='mygraph.png') "
   ]
  },
  {
   "cell_type": "markdown",
   "metadata": {},
   "source": [
    "### Loading and plotting the data \n",
    "Using QCoDeS plot_dataset works the same way."
   ]
  },
  {
   "cell_type": "code",
   "execution_count": 107,
   "metadata": {},
   "outputs": [],
   "source": [
    "my_data = load_by_id(1)"
   ]
  },
  {
   "cell_type": "code",
   "execution_count": 108,
   "metadata": {},
   "outputs": [
    {
     "data": {
      "text/plain": [
       "([<AxesSubplot:title={'center':'Run #1, Experiment plotting (no sample)'}, xlabel='V_gate (V)', ylabel='Parallel magnetic field (T)'>],\n",
       " [<matplotlib.colorbar.Colorbar at 0x179995f3388>])"
      ]
     },
     "execution_count": 108,
     "metadata": {},
     "output_type": "execute_result"
    },
    {
     "data": {
      "image/png": "[encoded data removed]",
      "text/plain": [
       "<Figure size 432x288 with 2 Axes>"
      ]
     },
     "metadata": {
      "needs_background": "light"
     },
     "output_type": "display_data"
    }
   ],
   "source": [
    "plot_dataset(my_data ,rescale_axes = False)\n"
   ]
  },
  {
   "cell_type": "code",
   "execution_count": 109,
   "metadata": {},
   "outputs": [
    {
     "data": {
      "text/plain": [
       "([<AxesSubplot:title={'center':'Run #1, Experiment plotting (no sample)'}, xlabel='V_gate (V)', ylabel='Parallel magnetic field (mT)'>],\n",
       " [<matplotlib.colorbar.Colorbar at 0x179965a0888>])"
      ]
     },
     "execution_count": 109,
     "metadata": {},
     "output_type": "execute_result"
    }
   ],
   "source": [
    "plot_dataset(my_data , axes=ax, rescale_axes = True)"
   ]
  },
  {
   "cell_type": "code",
   "execution_count": 110,
   "metadata": {},
   "outputs": [
    {
     "data": {
      "text/plain": [
       "Text(0.5, 1.0, 'Random Title')"
      ]
     },
     "execution_count": 110,
     "metadata": {},
     "output_type": "execute_result"
    },
    {
     "data": {
      "image/png": "[encoded data removed]",
      "text/plain": [
       "<Figure size 432x288 with 2 Axes>"
      ]
     },
     "metadata": {
      "needs_background": "light"
     },
     "output_type": "display_data"
    }
   ],
   "source": [
    "fig, ax = plt.subplots(1,1)\n",
    "my_plot = plot_dataset(a , axes=ax, rescale_axes = True)\n",
    "ax.set_xlabel('my label')\n",
    "ax.set_ylabel('also my label')\n",
    "ax.set_title('Random Title')\n"
   ]
  },
  {
   "cell_type": "markdown",
   "metadata": {},
   "source": [
    "### Xarray\n",
    "If you need to apply a transformation to the data, you can use xarray. The plotting in xarray is also just a wrapper around matplotlib. "
   ]
  },
  {
   "cell_type": "code",
   "execution_count": 115,
   "metadata": {},
   "outputs": [],
   "source": [
    "x_data = my_data.to_xarray_dataset()"
   ]
  },
  {
   "cell_type": "code",
   "execution_count": 116,
   "metadata": {},
   "outputs": [
    {
     "data": {
      "text/html": [
       "<div><svg style=\"position: absolute; width: 0; height: 0; overflow: hidden\">\n",
       "<defs>\n",
       "<symbol id=\"icon-database\" viewBox=\"0 0 32 32\">\n",
       "<path d=\"M16 0c-8.837 0-16 2.239-16 5v4c0 2.761 7.163 5 16 5s16-2.239 16-5v-4c0-2.761-7.163-5-16-5z\"></path>\n",
       "<path d=\"M16 17c-8.837 0-16-2.239-16-5v6c0 2.761 7.163 5 16 5s16-2.239 16-5v-6c0 2.761-7.163 5-16 5z\"></path>\n",
       "<path d=\"M16 26c-8.837 0-16-2.239-16-5v6c0 2.761 7.163 5 16 5s16-2.239 16-5v-6c0 2.761-7.163 5-16 5z\"></path>\n",
       "</symbol>\n",
       "<symbol id=\"icon-file-text2\" viewBox=\"0 0 32 32\">\n",
       "<path d=\"M28.681 7.159c-0.694-0.947-1.662-2.053-2.724-3.116s-2.169-2.030-3.116-2.724c-1.612-1.182-2.393-1.319-2.841-1.319h-15.5c-1.378 0-2.5 1.121-2.5 2.5v27c0 1.378 1.122 2.5 2.5 2.5h23c1.378 0 2.5-1.122 2.5-2.5v-19.5c0-0.448-0.137-1.23-1.319-2.841zM24.543 5.457c0.959 0.959 1.712 1.825 2.268 2.543h-4.811v-4.811c0.718 0.556 1.584 1.309 2.543 2.268zM28 29.5c0 0.271-0.229 0.5-0.5 0.5h-23c-0.271 0-0.5-0.229-0.5-0.5v-27c0-0.271 0.229-0.5 0.5-0.5 0 0 15.499-0 15.5 0v7c0 0.552 0.448 1 1 1h7v19.5z\"></path>\n",
       "<path d=\"M23 26h-14c-0.552 0-1-0.448-1-1s0.448-1 1-1h14c0.552 0 1 0.448 1 1s-0.448 1-1 1z\"></path>\n",
       "<path d=\"M23 22h-14c-0.552 0-1-0.448-1-1s0.448-1 1-1h14c0.552 0 1 0.448 1 1s-0.448 1-1 1z\"></path>\n",
       "<path d=\"M23 18h-14c-0.552 0-1-0.448-1-1s0.448-1 1-1h14c0.552 0 1 0.448 1 1s-0.448 1-1 1z\"></path>\n",
       "</symbol>\n",
       "</defs>\n",
       "</svg>\n",
       "<style>/* CSS stylesheet for displaying xarray objects in jupyterlab.\n",
       " *\n",
       " */\n",
       "\n",
       ":root {\n",
       "  --xr-font-color0: var(--jp-content-font-color0, rgba(0, 0, 0, 1));\n",
       "  --xr-font-color2: var(--jp-content-font-color2, rgba(0, 0, 0, 0.54));\n",
       "  --xr-font-color3: var(--jp-content-font-color3, rgba(0, 0, 0, 0.38));\n",
       "  --xr-border-color: var(--jp-border-color2, #e0e0e0);\n",
       "  --xr-disabled-color: var(--jp-layout-color3, #bdbdbd);\n",
       "  --xr-background-color: var(--jp-layout-color0, white);\n",
       "  --xr-background-color-row-even: var(--jp-layout-color1, white);\n",
       "  --xr-background-color-row-odd: var(--jp-layout-color2, #eeeeee);\n",
       "}\n",
       "\n",
       "html[theme=dark],\n",
       "body.vscode-dark {\n",
       "  --xr-font-color0: rgba(255, 255, 255, 1);\n",
       "  --xr-font-color2: rgba(255, 255, 255, 0.54);\n",
       "  --xr-font-color3: rgba(255, 255, 255, 0.38);\n",
       "  --xr-border-color: #1F1F1F;\n",
       "  --xr-disabled-color: #515151;\n",
       "  --xr-background-color: #111111;\n",
       "  --xr-background-color-row-even: #111111;\n",
       "  --xr-background-color-row-odd: #313131;\n",
       "}\n",
       "\n",
       ".xr-wrap {\n",
       "  display: block;\n",
       "  min-width: 300px;\n",
       "  max-width: 700px;\n",
       "}\n",
       "\n",
       ".xr-text-repr-fallback {\n",
       "  /* fallback to plain text repr when CSS is not injected (untrusted notebook) */\n",
       "  display: none;\n",
       "}\n",
       "\n",
       ".xr-header {\n",
       "  padding-top: 6px;\n",
       "  padding-bottom: 6px;\n",
       "  margin-bottom: 4px;\n",
       "  border-bottom: solid 1px var(--xr-border-color);\n",
       "}\n",
       "\n",
       ".xr-header > div,\n",
       ".xr-header > ul {\n",
       "  display: inline;\n",
       "  margin-top: 0;\n",
       "  margin-bottom: 0;\n",
       "}\n",
       "\n",
       ".xr-obj-type,\n",
       ".xr-array-name {\n",
       "  margin-left: 2px;\n",
       "  margin-right: 10px;\n",
       "}\n",
       "\n",
       ".xr-obj-type {\n",
       "  color: var(--xr-font-color2);\n",
       "}\n",
       "\n",
       ".xr-sections {\n",
       "  padding-left: 0 !important;\n",
       "  display: grid;\n",
       "  grid-template-columns: 150px auto auto 1fr 20px 20px;\n",
       "}\n",
       "\n",
       ".xr-section-item {\n",
       "  display: contents;\n",
       "}\n",
       "\n",
       ".xr-section-item input {\n",
       "  display: none;\n",
       "}\n",
       "\n",
       ".xr-section-item input + label {\n",
       "  color: var(--xr-disabled-color);\n",
       "}\n",
       "\n",
       ".xr-section-item input:enabled + label {\n",
       "  cursor: pointer;\n",
       "  color: var(--xr-font-color2);\n",
       "}\n",
       "\n",
       ".xr-section-item input:enabled + label:hover {\n",
       "  color: var(--xr-font-color0);\n",
       "}\n",
       "\n",
       ".xr-section-summary {\n",
       "  grid-column: 1;\n",
       "  color: var(--xr-font-color2);\n",
       "  font-weight: 500;\n",
       "}\n",
       "\n",
       ".xr-section-summary > span {\n",
       "  display: inline-block;\n",
       "  padding-left: 0.5em;\n",
       "}\n",
       "\n",
       ".xr-section-summary-in:disabled + label {\n",
       "  color: var(--xr-font-color2);\n",
       "}\n",
       "\n",
       ".xr-section-summary-in + label:before {\n",
       "  display: inline-block;\n",
       "  content: '►';\n",
       "  font-size: 11px;\n",
       "  width: 15px;\n",
       "  text-align: center;\n",
       "}\n",
       "\n",
       ".xr-section-summary-in:disabled + label:before {\n",
       "  color: var(--xr-disabled-color);\n",
       "}\n",
       "\n",
       ".xr-section-summary-in:checked + label:before {\n",
       "  content: '▼';\n",
       "}\n",
       "\n",
       ".xr-section-summary-in:checked + label > span {\n",
       "  display: none;\n",
       "}\n",
       "\n",
       ".xr-section-summary,\n",
       ".xr-section-inline-details {\n",
       "  padding-top: 4px;\n",
       "  padding-bottom: 4px;\n",
       "}\n",
       "\n",
       ".xr-section-inline-details {\n",
       "  grid-column: 2 / -1;\n",
       "}\n",
       "\n",
       ".xr-section-details {\n",
       "  display: none;\n",
       "  grid-column: 1 / -1;\n",
       "  margin-bottom: 5px;\n",
       "}\n",
       "\n",
       ".xr-section-summary-in:checked ~ .xr-section-details {\n",
       "  display: contents;\n",
       "}\n",
       "\n",
       ".xr-array-wrap {\n",
       "  grid-column: 1 / -1;\n",
       "  display: grid;\n",
       "  grid-template-columns: 20px auto;\n",
       "}\n",
       "\n",
       ".xr-array-wrap > label {\n",
       "  grid-column: 1;\n",
       "  vertical-align: top;\n",
       "}\n",
       "\n",
       ".xr-preview {\n",
       "  color: var(--xr-font-color3);\n",
       "}\n",
       "\n",
       ".xr-array-preview,\n",
       ".xr-array-data {\n",
       "  padding: 0 5px !important;\n",
       "  grid-column: 2;\n",
       "}\n",
       "\n",
       ".xr-array-data,\n",
       ".xr-array-in:checked ~ .xr-array-preview {\n",
       "  display: none;\n",
       "}\n",
       "\n",
       ".xr-array-in:checked ~ .xr-array-data,\n",
       ".xr-array-preview {\n",
       "  display: inline-block;\n",
       "}\n",
       "\n",
       ".xr-dim-list {\n",
       "  display: inline-block !important;\n",
       "  list-style: none;\n",
       "  padding: 0 !important;\n",
       "  margin: 0;\n",
       "}\n",
       "\n",
       ".xr-dim-list li {\n",
       "  display: inline-block;\n",
       "  padding: 0;\n",
       "  margin: 0;\n",
       "}\n",
       "\n",
       ".xr-dim-list:before {\n",
       "  content: '(';\n",
       "}\n",
       "\n",
       ".xr-dim-list:after {\n",
       "  content: ')';\n",
       "}\n",
       "\n",
       ".xr-dim-list li:not(:last-child):after {\n",
       "  content: ',';\n",
       "  padding-right: 5px;\n",
       "}\n",
       "\n",
       ".xr-has-index {\n",
       "  font-weight: bold;\n",
       "}\n",
       "\n",
       ".xr-var-list,\n",
       ".xr-var-item {\n",
       "  display: contents;\n",
       "}\n",
       "\n",
       ".xr-var-item > div,\n",
       ".xr-var-item label,\n",
       ".xr-var-item > .xr-var-name span {\n",
       "  background-color: var(--xr-background-color-row-even);\n",
       "  margin-bottom: 0;\n",
       "}\n",
       "\n",
       ".xr-var-item > .xr-var-name:hover span {\n",
       "  padding-right: 5px;\n",
       "}\n",
       "\n",
       ".xr-var-list > li:nth-child(odd) > div,\n",
       ".xr-var-list > li:nth-child(odd) > label,\n",
       ".xr-var-list > li:nth-child(odd) > .xr-var-name span {\n",
       "  background-color: var(--xr-background-color-row-odd);\n",
       "}\n",
       "\n",
       ".xr-var-name {\n",
       "  grid-column: 1;\n",
       "}\n",
       "\n",
       ".xr-var-dims {\n",
       "  grid-column: 2;\n",
       "}\n",
       "\n",
       ".xr-var-dtype {\n",
       "  grid-column: 3;\n",
       "  text-align: right;\n",
       "  color: var(--xr-font-color2);\n",
       "}\n",
       "\n",
       ".xr-var-preview {\n",
       "  grid-column: 4;\n",
       "}\n",
       "\n",
       ".xr-var-name,\n",
       ".xr-var-dims,\n",
       ".xr-var-dtype,\n",
       ".xr-preview,\n",
       ".xr-attrs dt {\n",
       "  white-space: nowrap;\n",
       "  overflow: hidden;\n",
       "  text-overflow: ellipsis;\n",
       "  padding-right: 10px;\n",
       "}\n",
       "\n",
       ".xr-var-name:hover,\n",
       ".xr-var-dims:hover,\n",
       ".xr-var-dtype:hover,\n",
       ".xr-attrs dt:hover {\n",
       "  overflow: visible;\n",
       "  width: auto;\n",
       "  z-index: 1;\n",
       "}\n",
       "\n",
       ".xr-var-attrs,\n",
       ".xr-var-data {\n",
       "  display: none;\n",
       "  background-color: var(--xr-background-color) !important;\n",
       "  padding-bottom: 5px !important;\n",
       "}\n",
       "\n",
       ".xr-var-attrs-in:checked ~ .xr-var-attrs,\n",
       ".xr-var-data-in:checked ~ .xr-var-data {\n",
       "  display: block;\n",
       "}\n",
       "\n",
       ".xr-var-data > table {\n",
       "  float: right;\n",
       "}\n",
       "\n",
       ".xr-var-name span,\n",
       ".xr-var-data,\n",
       ".xr-attrs {\n",
       "  padding-left: 25px !important;\n",
       "}\n",
       "\n",
       ".xr-attrs,\n",
       ".xr-var-attrs,\n",
       ".xr-var-data {\n",
       "  grid-column: 1 / -1;\n",
       "}\n",
       "\n",
       "dl.xr-attrs {\n",
       "  padding: 0;\n",
       "  margin: 0;\n",
       "  display: grid;\n",
       "  grid-template-columns: 125px auto;\n",
       "}\n",
       "\n",
       ".xr-attrs dt,\n",
       ".xr-attrs dd {\n",
       "  padding: 0;\n",
       "  margin: 0;\n",
       "  float: left;\n",
       "  padding-right: 10px;\n",
       "  width: auto;\n",
       "}\n",
       "\n",
       ".xr-attrs dt {\n",
       "  font-weight: normal;\n",
       "  grid-column: 1;\n",
       "}\n",
       "\n",
       ".xr-attrs dt:hover span {\n",
       "  display: inline-block;\n",
       "  background: var(--xr-background-color);\n",
       "  padding-right: 10px;\n",
       "}\n",
       "\n",
       ".xr-attrs dd {\n",
       "  grid-column: 2;\n",
       "  white-space: pre-wrap;\n",
       "  word-break: break-all;\n",
       "}\n",
       "\n",
       ".xr-icon-database,\n",
       ".xr-icon-file-text2 {\n",
       "  display: inline-block;\n",
       "  vertical-align: middle;\n",
       "  width: 1em;\n",
       "  height: 1.5em !important;\n",
       "  stroke-width: 0;\n",
       "  stroke: currentColor;\n",
       "  fill: currentColor;\n",
       "}\n",
       "</style><pre class='xr-text-repr-fallback'>&lt;xarray.Dataset&gt;\n",
       "Dimensions:              (test_Magnetic_field: 20, test_V: 20)\n",
       "Coordinates:\n",
       "  * test_V               (test_V) float64 0.0 0.05263 0.1053 ... 0.9474 1.0\n",
       "  * test_Magnetic_field  (test_Magnetic_field) float64 0.0 5.263e-05 ... 0.001\n",
       "Data variables:\n",
       "    test_Bias            (test_V, test_Magnetic_field) float64 0.1351 ... 0.0...\n",
       "Attributes:\n",
       "    sample_name:  no sample\n",
       "    exp_name:     plotting</pre><div class='xr-wrap' hidden><div class='xr-header'><div class='xr-obj-type'>xarray.Dataset</div></div><ul class='xr-sections'><li class='xr-section-item'><input id='section-fafac683-5449-4eed-98cc-ba480283cbf1' class='xr-section-summary-in' type='checkbox' disabled ><label for='section-fafac683-5449-4eed-98cc-ba480283cbf1' class='xr-section-summary'  title='Expand/collapse section'>Dimensions:</label><div class='xr-section-inline-details'><ul class='xr-dim-list'><li><span class='xr-has-index'>test_Magnetic_field</span>: 20</li><li><span class='xr-has-index'>test_V</span>: 20</li></ul></div><div class='xr-section-details'></div></li><li class='xr-section-item'><input id='section-8d494ac1-6c04-4918-89fc-f5b2c280ee61' class='xr-section-summary-in' type='checkbox'  checked><label for='section-8d494ac1-6c04-4918-89fc-f5b2c280ee61' class='xr-section-summary' >Coordinates: <span>(2)</span></label><div class='xr-section-inline-details'></div><div class='xr-section-details'><ul class='xr-var-list'><li class='xr-var-item'><div class='xr-var-name'><span class='xr-has-index'>test_V</span></div><div class='xr-var-dims'>(test_V)</div><div class='xr-var-dtype'>float64</div><div class='xr-var-preview xr-preview'>0.0 0.05263 0.1053 ... 0.9474 1.0</div><input id='attrs-1a178d31-c333-49a5-a867-ea6f61d2a2d5' class='xr-var-attrs-in' type='checkbox' ><label for='attrs-1a178d31-c333-49a5-a867-ea6f61d2a2d5' title='Show/Hide attributes'><svg class='icon xr-icon-file-text2'><use xlink:href='#icon-file-text2'></use></svg></label><input id='data-08ecc66a-0dd4-4a9b-bdf1-176498e83d0b' class='xr-var-data-in' type='checkbox'><label for='data-08ecc66a-0dd4-4a9b-bdf1-176498e83d0b' title='Show/Hide data repr'><svg class='icon xr-icon-database'><use xlink:href='#icon-database'></use></svg></label><div class='xr-var-attrs'><dl class='xr-attrs'><dt><span>name :</span></dt><dd>test_V</dd><dt><span>paramtype :</span></dt><dd>numeric</dd><dt><span>label :</span></dt><dd>V_gate</dd><dt><span>unit :</span></dt><dd>V</dd><dt><span>inferred_from :</span></dt><dd>[]</dd><dt><span>depends_on :</span></dt><dd>[]</dd></dl></div><div class='xr-var-data'><pre>array([0.      , 0.052632, 0.105263, 0.157895, 0.210526, 0.263158, 0.315789,\n",
       "       0.368421, 0.421053, 0.473684, 0.526316, 0.578947, 0.631579, 0.684211,\n",
       "       0.736842, 0.789474, 0.842105, 0.894737, 0.947368, 1.      ])</pre></div></li><li class='xr-var-item'><div class='xr-var-name'><span class='xr-has-index'>test_Magnetic_field</span></div><div class='xr-var-dims'>(test_Magnetic_field)</div><div class='xr-var-dtype'>float64</div><div class='xr-var-preview xr-preview'>0.0 5.263e-05 ... 0.0009474 0.001</div><input id='attrs-edb0e591-a8be-4a24-8f3f-4e14504b12cd' class='xr-var-attrs-in' type='checkbox' ><label for='attrs-edb0e591-a8be-4a24-8f3f-4e14504b12cd' title='Show/Hide attributes'><svg class='icon xr-icon-file-text2'><use xlink:href='#icon-file-text2'></use></svg></label><input id='data-0741ebfe-39c4-4c74-b01e-3788e5d56d50' class='xr-var-data-in' type='checkbox'><label for='data-0741ebfe-39c4-4c74-b01e-3788e5d56d50' title='Show/Hide data repr'><svg class='icon xr-icon-database'><use xlink:href='#icon-database'></use></svg></label><div class='xr-var-attrs'><dl class='xr-attrs'><dt><span>name :</span></dt><dd>test_Magnetic_field</dd><dt><span>paramtype :</span></dt><dd>numeric</dd><dt><span>label :</span></dt><dd>Parallel magnetic field</dd><dt><span>unit :</span></dt><dd>T</dd><dt><span>inferred_from :</span></dt><dd>[]</dd><dt><span>depends_on :</span></dt><dd>[]</dd></dl></div><div class='xr-var-data'><pre>array([0.000000e+00, 5.263158e-05, 1.052632e-04, 1.578947e-04, 2.105263e-04,\n",
       "       2.631579e-04, 3.157895e-04, 3.684211e-04, 4.210526e-04, 4.736842e-04,\n",
       "       5.263158e-04, 5.789474e-04, 6.315789e-04, 6.842105e-04, 7.368421e-04,\n",
       "       7.894737e-04, 8.421053e-04, 8.947368e-04, 9.473684e-04, 1.000000e-03])</pre></div></li></ul></div></li><li class='xr-section-item'><input id='section-10edbe01-5c68-4378-98dd-38b4ab2d4202' class='xr-section-summary-in' type='checkbox'  checked><label for='section-10edbe01-5c68-4378-98dd-38b4ab2d4202' class='xr-section-summary' >Data variables: <span>(1)</span></label><div class='xr-section-inline-details'></div><div class='xr-section-details'><ul class='xr-var-list'><li class='xr-var-item'><div class='xr-var-name'><span>test_Bias</span></div><div class='xr-var-dims'>(test_V, test_Magnetic_field)</div><div class='xr-var-dtype'>float64</div><div class='xr-var-preview xr-preview'>0.1351 0.09392 ... 0.3983 0.01644</div><input id='attrs-7722eaac-c402-4a4d-8478-ffba703bbc93' class='xr-var-attrs-in' type='checkbox' ><label for='attrs-7722eaac-c402-4a4d-8478-ffba703bbc93' title='Show/Hide attributes'><svg class='icon xr-icon-file-text2'><use xlink:href='#icon-file-text2'></use></svg></label><input id='data-61d85237-c78f-453b-a807-14582d25ed14' class='xr-var-data-in' type='checkbox'><label for='data-61d85237-c78f-453b-a807-14582d25ed14' title='Show/Hide data repr'><svg class='icon xr-icon-database'><use xlink:href='#icon-database'></use></svg></label><div class='xr-var-attrs'><dl class='xr-attrs'><dt><span>name :</span></dt><dd>test_Bias</dd><dt><span>paramtype :</span></dt><dd>numeric</dd><dt><span>label :</span></dt><dd>Bias</dd><dt><span>unit :</span></dt><dd>V</dd><dt><span>inferred_from :</span></dt><dd>[]</dd><dt><span>depends_on :</span></dt><dd>[&#x27;test_V&#x27;, &#x27;test_Magnetic_field&#x27;]</dd></dl></div><div class='xr-var-data'><pre>array([[0.13506312, 0.09392405, 0.62324255, 0.12478116, 0.68443735,\n",
       "        0.09089631, 0.05134918, 0.72579255, 0.66255003, 0.75177301,\n",
       "        0.29086163, 0.38170323, 0.64149589, 0.94989661, 0.9011685 ,\n",
       "        0.15306332, 0.96979529, 0.86505127, 0.55293214, 0.0478776 ],\n",
       "       [0.12990712, 0.50247829, 0.74340371, 0.21592956, 0.48409295,\n",
       "        0.6680332 , 0.11574822, 0.04743025, 0.86385995, 0.44322704,\n",
       "        0.33346079, 0.79008496, 0.22149418, 0.23965466, 0.97764187,\n",
       "        0.55359745, 0.90742077, 0.53075912, 0.06331386, 0.17649252],\n",
       "       [0.31375308, 0.77522541, 0.25894926, 0.40718304, 0.37613833,\n",
       "        0.9943229 , 0.27848116, 0.4300323 , 0.46226104, 0.16909065,\n",
       "        0.34711535, 0.24418403, 0.45678442, 0.85430248, 0.96614803,\n",
       "        0.87838579, 0.40266148, 0.99838071, 0.17799828, 0.27876272],\n",
       "       [0.77329478, 0.64779968, 0.235723  , 0.19505398, 0.54616121,\n",
       "        0.73474397, 0.66237813, 0.98324967, 0.17912308, 0.4265325 ,\n",
       "        0.45808001, 0.97141101, 0.28714998, 0.88659902, 0.94308278,\n",
       "        0.31632698, 0.25577814, 0.6470343 , 0.61036064, 0.43911408],\n",
       "       [0.17164713, 0.59533192, 0.44922754, 0.13310057, 0.98908144,\n",
       "        0.5317956 , 0.01023355, 0.15448245, 0.20660156, 0.90072549,\n",
       "        0.11452025, 0.30763594, 0.69672906, 0.53527615, 0.70991923,\n",
       "        0.14349631, 0.28404164, 0.56402834, 0.13521613, 0.42414714],\n",
       "...\n",
       "       [0.51880446, 0.56780041, 0.2835912 , 0.9709178 , 0.40223519,\n",
       "        0.49003411, 0.64788515, 0.73110051, 0.7719294 , 0.08616607,\n",
       "        0.67367079, 0.49081008, 0.58648854, 0.03830225, 0.6793226 ,\n",
       "        0.35509739, 0.40019512, 0.36888526, 0.23461765, 0.28589001],\n",
       "       [0.50633802, 0.46352544, 0.33404669, 0.0287056 , 0.09869633,\n",
       "        0.9240301 , 0.01526012, 0.96100109, 0.52980516, 0.23227608,\n",
       "        0.55691592, 0.53751152, 0.00205465, 0.3353944 , 0.13929924,\n",
       "        0.23393114, 0.64127405, 0.51209419, 0.53747436, 0.95370728],\n",
       "       [0.14607553, 0.52720288, 0.63839282, 0.13493155, 0.64412781,\n",
       "        0.04887347, 0.63710352, 0.41866687, 0.48921544, 0.63218701,\n",
       "        0.67850617, 0.19986954, 0.96021244, 0.16178282, 0.35957459,\n",
       "        0.76410709, 0.78149254, 0.02683203, 0.37101059, 0.8202027 ],\n",
       "       [0.68173228, 0.26048202, 0.64610772, 0.78687877, 0.60161825,\n",
       "        0.96833738, 0.31857558, 0.19152541, 0.2829269 , 0.0977271 ,\n",
       "        0.40100126, 0.99337422, 0.64241029, 0.44819725, 0.17330587,\n",
       "        0.1658273 , 0.86650873, 0.47022109, 0.44809109, 0.88790585],\n",
       "       [0.86273178, 0.82757715, 0.28169241, 0.32327996, 0.80770598,\n",
       "        0.04782745, 0.93856502, 0.68060289, 0.32942299, 0.93526377,\n",
       "        0.90388226, 0.6302451 , 0.87236121, 0.12638832, 0.27852034,\n",
       "        0.08484861, 0.24864236, 0.20794499, 0.39830814, 0.01644347]])</pre></div></li></ul></div></li><li class='xr-section-item'><input id='section-68d6f97e-657a-4372-81ee-67b3b37739b0' class='xr-section-summary-in' type='checkbox'  checked><label for='section-68d6f97e-657a-4372-81ee-67b3b37739b0' class='xr-section-summary' >Attributes: <span>(2)</span></label><div class='xr-section-inline-details'></div><div class='xr-section-details'><dl class='xr-attrs'><dt><span>sample_name :</span></dt><dd>no sample</dd><dt><span>exp_name :</span></dt><dd>plotting</dd></dl></div></li></ul></div></div>"
      ],
      "text/plain": [
       "<xarray.Dataset>\n",
       "Dimensions:              (test_Magnetic_field: 20, test_V: 20)\n",
       "Coordinates:\n",
       "  * test_V               (test_V) float64 0.0 0.05263 0.1053 ... 0.9474 1.0\n",
       "  * test_Magnetic_field  (test_Magnetic_field) float64 0.0 5.263e-05 ... 0.001\n",
       "Data variables:\n",
       "    test_Bias            (test_V, test_Magnetic_field) float64 0.1351 ... 0.0...\n",
       "Attributes:\n",
       "    sample_name:  no sample\n",
       "    exp_name:     plotting"
      ]
     },
     "execution_count": 116,
     "metadata": {},
     "output_type": "execute_result"
    }
   ],
   "source": [
    "x_data"
   ]
  },
  {
   "cell_type": "code",
   "execution_count": 117,
   "metadata": {},
   "outputs": [
    {
     "data": {
      "text/plain": [
       "<matplotlib.collections.QuadMesh at 0x17996667588>"
      ]
     },
     "execution_count": 117,
     "metadata": {},
     "output_type": "execute_result"
    },
    {
     "data": {
      "image/png": "[encoded data removed]",
      "text/plain": [
       "<Figure size 432x288 with 2 Axes>"
      ]
     },
     "metadata": {
      "needs_background": "light"
     },
     "output_type": "display_data"
    }
   ],
   "source": [
    "fig, ax = plt.subplots(1,1)\n",
    "x_data.test_Bias.plot(ax=ax)\n"
   ]
  },
  {
   "cell_type": "code",
   "execution_count": 118,
   "metadata": {},
   "outputs": [
    {
     "data": {
      "image/png": "[encoded data removed]",
      "text/plain": [
       "<Figure size 432x288 with 2 Axes>"
      ]
     },
     "metadata": {
      "needs_background": "light"
     },
     "output_type": "display_data"
    }
   ],
   "source": [
    "x_data2 = x_data.assign_coords( test_Magnetic_field=x_data.test_Magnetic_field*1e6)\n",
    "x_data2.test_Bias.values = x_data2.test_Bias.values - 0.5\n",
    "fig, ax = plt.subplots(1,1)\n",
    "my_plot = x_data2.test_Bias.plot(ax=ax)\n",
    "ax.set_ylabel('V gate (V)')\n",
    "ax.set_xlabel(r'B || ($\\mu$T)')\n",
    "ax.set_title('Random Plot')\n",
    "my_plot.set_cmap('magma')\n",
    "my_plot.colorbar.set_label('Bias (V)')"
   ]
  },
  {
   "cell_type": "code",
   "execution_count": null,
   "metadata": {},
   "outputs": [],
   "source": []
  }
 ],
 "metadata": {
  "kernelspec": {
   "display_name": "Python 3",
   "language": "python",
   "name": "python3"
  },
  "language_info": {
   "codemirror_mode": {
    "name": "ipython",
    "version": 3
   },
   "file_extension": ".py",
   "mimetype": "text/x-python",
   "name": "python",
   "nbconvert_exporter": "python",
   "pygments_lexer": "ipython3",
   "version": "3.7.5"
  }
 },
 "nbformat": 4,
 "nbformat_minor": 4
}
