{
 "cells": [
  {
   "cell_type": "code",
   "execution_count": 4,
   "metadata": {},
   "outputs": [],
   "source": [
    "import qcodes\n",
    "from qcodes.dataset.sqlite.database import connect\n",
    "from qcodes.dataset.data_set_info import get_run_attributes\n",
    "from qcodes.dataset.sqlite.queries import get_guids_from_run_spec"
   ]
  },
  {
   "cell_type": "code",
   "execution_count": 8,
   "metadata": {},
   "outputs": [],
   "source": [
    "def search_database_snapshots(path,ins,parameter):\n",
    "    con = connect(path)\n",
    "    guids = get_guids_from_run_spec(con)\n",
    "    for id in guids:\n",
    "        try:\n",
    "            run_attributes = get_run_attributes(con,id)\n",
    "            value = run_attributes['snapshot']['station']['instruments'][ins]['parameters'][parameter]['value']\n",
    "            print(f'guid {id} has {parameter} = {value}')\n",
    "        except  KeyError as e:\n",
    "            print(f'{e} not in snapshot')\n",
    "        "
   ]
  },
  {
   "cell_type": "code",
   "execution_count": 9,
   "metadata": {},
   "outputs": [
    {
     "name": "stdout",
     "output_type": "stream",
     "text": [
      "guid aaaaaaaa-0c00-000a-0000-017588945d4d has BNC17 = 0.17174\n",
      "guid aaaaaaaa-0c00-000a-0000-01759d3255ab has BNC17 = 0.0\n",
      "guid aaaaaaaa-0c00-000a-0000-01759d37b181 has BNC17 = 0.1\n",
      "guid aaaaaaaa-0c00-000a-0000-01759d39cb90 has BNC17 = 0.1\n",
      "guid aaaaaaaa-0c00-000a-0000-0175d5c04668 has BNC17 = 0.2\n",
      "guid aaaaaaaa-0c00-000a-0000-0175d5c4b979 has BNC17 = 0.18\n",
      "guid aaaaaaaa-0c00-000a-0000-0175b2f7ea20 has BNC17 = 0.0605\n",
      "guid aaaaaaaa-0c00-000a-0000-01757b00de09 has BNC17 = 0.181493\n"
     ]
    }
   ],
   "source": [
    "search_database_snapshots('test.db','qdac','BNC17')"
   ]
  }
 ],
 "metadata": {
  "kernelspec": {
   "display_name": "Python 3 (ipykernel)",
   "language": "python",
   "name": "python3"
  },
  "language_info": {
   "codemirror_mode": {
    "name": "ipython",
    "version": 3
   },
   "file_extension": ".py",
   "mimetype": "text/x-python",
   "name": "python",
   "nbconvert_exporter": "python",
   "pygments_lexer": "ipython3",
   "version": "3.9.7"
  }
 },
 "nbformat": 4,
 "nbformat_minor": 4
}
